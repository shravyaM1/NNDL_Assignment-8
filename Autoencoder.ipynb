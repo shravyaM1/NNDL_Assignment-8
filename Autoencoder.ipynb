{
  "nbformat": 4,
  "nbformat_minor": 0,
  "metadata": {
    "colab": {
      "provenance": []
    },
    "kernelspec": {
      "name": "python3",
      "display_name": "Python 3"
    },
    "language_info": {
      "name": "python"
    },
    "accelerator": "GPU",
    "gpuClass": "standard"
  },
  "cells": [
    {
      "cell_type": "code",
      "execution_count": 3,
      "metadata": {
        "id": "4-8rLwTxH3Ha"
      },
      "outputs": [],
      "source": [
        "from keras.layers import Input, Dense\n",
        "from keras.models import Model"
      ]
    },
    {
      "cell_type": "code",
      "source": [
        "# this is the size of our encoded representations\n",
        "encoding_dim = 32  # 32 floats -> compression of factor 24.5, assuming the input is 784 floats"
      ],
      "metadata": {
        "id": "DXrcL_wIIDQL"
      },
      "execution_count": 4,
      "outputs": []
    },
    {
      "cell_type": "code",
      "source": [
        "# this is our input placeholder\n",
        "input_img = Input(shape=(784,))\n",
        "# \"encoded\" is the encoded representation of the input\n",
        "encoded = Dense(encoding_dim, activation='relu')(input_img) #Undercomplete Encoding\n",
        "# \"decoded\" is the lossy reconstruction of the input\n",
        "decoded = Dense(784, activation='sigmoid')(encoded)"
      ],
      "metadata": {
        "id": "OlMH22S4IM0J"
      },
      "execution_count": 5,
      "outputs": []
    },
    {
      "cell_type": "code",
      "source": [
        "# this model maps an input to its reconstruction\n",
        "autoencoder = Model(input_img, decoded)\n",
        "# this model maps an input to its encoded representation\n",
        "autoencoder.compile(optimizer='adam', loss='binary_crossentropy',metrics=['accuracy'])"
      ],
      "metadata": {
        "id": "4m75jgnqIXoi"
      },
      "execution_count": 6,
      "outputs": []
    },
    {
      "cell_type": "code",
      "source": [
        "from keras.datasets import mnist, fashion_mnist\n",
        "import numpy as np\n",
        "\n",
        "(x_train, y_train), (x_test, y_test) = fashion_mnist.load_data()\n",
        "x_train = x_train[:6000]\n",
        "x_test = x_test[:1000]\n",
        "\n",
        "#Converting into float & Scaling Data\n",
        "x_train = x_train.astype('float32') / 255.\n",
        "x_test = x_test.astype('float32') / 255.\n",
        "\n",
        "\n",
        "#Setting Up data from 28*28 to 784 for the width & height of image\n",
        "x_train = x_train.reshape((len(x_train), np.prod(x_train.shape[1:])))\n",
        "x_test = x_test.reshape((len(x_test), np.prod(x_test.shape[1:])))"
      ],
      "metadata": {
        "colab": {
          "base_uri": "https://localhost:8080/"
        },
        "id": "eiKLGBQ5IYtJ",
        "outputId": "c7b50b17-fd07-4f73-a020-3cc19cbcf811"
      },
      "execution_count": 7,
      "outputs": [
        {
          "output_type": "stream",
          "name": "stdout",
          "text": [
            "Downloading data from https://storage.googleapis.com/tensorflow/tf-keras-datasets/train-labels-idx1-ubyte.gz\n",
            "29515/29515 [==============================] - 0s 1us/step\n",
            "Downloading data from https://storage.googleapis.com/tensorflow/tf-keras-datasets/train-images-idx3-ubyte.gz\n",
            "26421880/26421880 [==============================] - 2s 0us/step\n",
            "Downloading data from https://storage.googleapis.com/tensorflow/tf-keras-datasets/t10k-labels-idx1-ubyte.gz\n",
            "5148/5148 [==============================] - 0s 0us/step\n",
            "Downloading data from https://storage.googleapis.com/tensorflow/tf-keras-datasets/t10k-images-idx3-ubyte.gz\n",
            "4422102/4422102 [==============================] - 1s 0us/step\n"
          ]
        }
      ]
    },
    {
      "cell_type": "code",
      "source": [
        "#Fitting/training the model\n",
        "autoencoder.fit(x_train, x_train,\n",
        "                epochs=5,\n",
        "                batch_size=128,\n",
        "                shuffle=True,\n",
        "                validation_data=(x_test, x_test))"
      ],
      "metadata": {
        "colab": {
          "base_uri": "https://localhost:8080/"
        },
        "id": "gTpvwcntIdyj",
        "outputId": "413e1070-5cc0-4c10-caac-a5c47912042c"
      },
      "execution_count": 8,
      "outputs": [
        {
          "output_type": "stream",
          "name": "stdout",
          "text": [
            "Epoch 1/5\n",
            "47/47 [==============================] - 5s 8ms/step - loss: 0.5708 - accuracy: 0.0017 - val_loss: 0.4656 - val_accuracy: 0.0000e+00\n",
            "Epoch 2/5\n",
            "47/47 [==============================] - 0s 4ms/step - loss: 0.4235 - accuracy: 0.0042 - val_loss: 0.3967 - val_accuracy: 0.0080\n",
            "Epoch 3/5\n",
            "47/47 [==============================] - 0s 5ms/step - loss: 0.3798 - accuracy: 0.0067 - val_loss: 0.3706 - val_accuracy: 0.0030\n",
            "Epoch 4/5\n",
            "47/47 [==============================] - 0s 4ms/step - loss: 0.3576 - accuracy: 0.0083 - val_loss: 0.3531 - val_accuracy: 0.0140\n",
            "Epoch 5/5\n",
            "47/47 [==============================] - 0s 4ms/step - loss: 0.3432 - accuracy: 0.0122 - val_loss: 0.3417 - val_accuracy: 0.0100\n"
          ]
        },
        {
          "output_type": "execute_result",
          "data": {
            "text/plain": [
              "<keras.callbacks.History at 0x7f43e5bfbf10>"
            ]
          },
          "metadata": {},
          "execution_count": 8
        }
      ]
    },
    {
      "cell_type": "code",
      "source": [
        "#predicting on the test data\n",
        "prediction = autoencoder.predict(x_test)"
      ],
      "metadata": {
        "colab": {
          "base_uri": "https://localhost:8080/"
        },
        "id": "eNH5y6hbJArf",
        "outputId": "6bc2b75d-6f81-4bb5-e612-096f1dd6199d"
      },
      "execution_count": 9,
      "outputs": [
        {
          "output_type": "stream",
          "name": "stdout",
          "text": [
            "32/32 [==============================] - 0s 2ms/step\n"
          ]
        }
      ]
    },
    {
      "cell_type": "code",
      "source": [
        "#Input Image\n",
        "from matplotlib import pyplot as plt\n",
        "plt.imshow(x_test[50].reshape(28,28))\n",
        "plt.show()"
      ],
      "metadata": {
        "colab": {
          "base_uri": "https://localhost:8080/",
          "height": 430
        },
        "id": "rRH3YigvJG_I",
        "outputId": "a5a719e3-94bb-4e42-cdd5-574ae007d78b"
      },
      "execution_count": 10,
      "outputs": [
        {
          "output_type": "display_data",
          "data": {
            "text/plain": [
              "<Figure size 640x480 with 1 Axes>"
            ],
            "image/png": "[encoded data removed]"
          },
          "metadata": {}
        }
      ]
    },
    {
      "cell_type": "code",
      "source": [
        "#reconstructed Image\n",
        "from matplotlib import pyplot as plt\n",
        "plt.imshow(prediction[50].reshape(28,28))\n",
        "plt.show()"
      ],
      "metadata": {
        "colab": {
          "base_uri": "https://localhost:8080/",
          "height": 430
        },
        "id": "z6NqiZDeJPUk",
        "outputId": "ede08c20-bcde-469c-b18d-f2329e53e78a"
      },
      "execution_count": 11,
      "outputs": [
        {
          "output_type": "display_data",
          "data": {
            "text/plain": [
              "<Figure size 640x480 with 1 Axes>"
            ],
            "image/png": "[encoded data removed]"
          },
          "metadata": {}
        }
      ]
    },
    {
      "cell_type": "markdown",
      "source": [
        "#1. Add one more hidden layer to autoencoder"
      ],
      "metadata": {
        "id": "3Oiq9B9sJnR4"
      }
    },
    {
      "cell_type": "code",
      "source": [
        "# this is our input placeholder\n",
        "input_img = Input(shape=(784,))\n",
        "#Adding hidden layer to encoding\n",
        "hiddenLayer_en=Dense(512,activation='relu')(input_img)\n",
        "# \"encoded\" is the encoded representation of the input\n",
        "encoded = Dense(encoding_dim, activation='relu')(hiddenLayer_en) #Undercomplete Encoding\n",
        "#Adding hidden layer to decoding\n",
        "hiddenLayer_de=Dense(512,activation='relu')(encoded)\n",
        "# \"decoded\" is the lossy reconstruction of the input\n",
        "decoded = Dense(784, activation='sigmoid')(hiddenLayer_de)\n",
        "\n",
        "\n",
        "# this model maps an input to its reconstruction\n",
        "autoencoder = Model(input_img, decoded)\n",
        "# this model maps an input to its encoded representation\n",
        "autoencoder.compile(optimizer='adam', loss='binary_crossentropy',metrics=['accuracy'])\n",
        "\n",
        "\n",
        "from keras.datasets import mnist, fashion_mnist\n",
        "import numpy as np\n",
        "\n",
        "(x_train, y_train), (x_test, y_test) = fashion_mnist.load_data()\n",
        "\n",
        "#Converting into float & Scaling Data\n",
        "x_train = x_train.astype('float32') / 255.\n",
        "x_test = x_test.astype('float32') / 255.\n",
        "\n",
        "#Setting Up data from 28*28 to 784 for the width & height of image\n",
        "x_train = x_train.reshape((len(x_train), np.prod(x_train.shape[1:])))\n",
        "x_test = x_test.reshape((len(x_test), np.prod(x_test.shape[1:])))\n",
        "\n",
        "#Fitting/training the model\n",
        "autoencoder.fit(x_train, x_train,\n",
        "                epochs=5,\n",
        "                batch_size=128,\n",
        "                shuffle=True,\n",
        "                validation_data=(x_test, x_test))"
      ],
      "metadata": {
        "colab": {
          "base_uri": "https://localhost:8080/"
        },
        "id": "3Km4pe2zJltI",
        "outputId": "06c7c942-4b84-4610-8c95-6907291580cc"
      },
      "execution_count": 12,
      "outputs": [
        {
          "output_type": "stream",
          "name": "stdout",
          "text": [
            "Epoch 1/5\n",
            "469/469 [==============================] - 8s 10ms/step - loss: 0.3227 - accuracy: 0.0126 - val_loss: 0.2939 - val_accuracy: 0.0151\n",
            "Epoch 2/5\n",
            "469/469 [==============================] - 2s 4ms/step - loss: 0.2856 - accuracy: 0.0216 - val_loss: 0.2852 - val_accuracy: 0.0258\n",
            "Epoch 3/5\n",
            "469/469 [==============================] - 2s 4ms/step - loss: 0.2795 - accuracy: 0.0283 - val_loss: 0.2795 - val_accuracy: 0.0283\n",
            "Epoch 4/5\n",
            "469/469 [==============================] - 2s 4ms/step - loss: 0.2761 - accuracy: 0.0311 - val_loss: 0.2770 - val_accuracy: 0.0302\n",
            "Epoch 5/5\n",
            "469/469 [==============================] - 2s 5ms/step - loss: 0.2742 - accuracy: 0.0339 - val_loss: 0.2753 - val_accuracy: 0.0333\n"
          ]
        },
        {
          "output_type": "execute_result",
          "data": {
            "text/plain": [
              "<keras.callbacks.History at 0x7f43d0334250>"
            ]
          },
          "metadata": {},
          "execution_count": 12
        }
      ]
    },
    {
      "cell_type": "markdown",
      "source": [
        "#2. Do the prediction on the test data and then visualize the reconstructed version of that test data. Also, visualize the same test data before reconstruction using Matplotlib"
      ],
      "metadata": {
        "id": "RhpddH5WMhb_"
      }
    },
    {
      "cell_type": "code",
      "source": [
        "#predicting on the test data\n",
        "prediction = autoencoder.predict(x_test)"
      ],
      "metadata": {
        "colab": {
          "base_uri": "https://localhost:8080/"
        },
        "id": "0KSjsCfqLyq1",
        "outputId": "432945c8-d21c-4353-8643-9dd10ae700bf"
      },
      "execution_count": 13,
      "outputs": [
        {
          "output_type": "stream",
          "name": "stdout",
          "text": [
            "313/313 [==============================] - 1s 2ms/step\n"
          ]
        }
      ]
    },
    {
      "cell_type": "code",
      "source": [
        "#Input Image\n",
        "from matplotlib import pyplot as plt\n",
        "plt.imshow(x_test[50].reshape(28,28))\n",
        "plt.show()"
      ],
      "metadata": {
        "colab": {
          "base_uri": "https://localhost:8080/",
          "height": 430
        },
        "id": "_y3Crf7WMsqW",
        "outputId": "d10086df-44bb-4fda-d3d6-9aa63125a9f2"
      },
      "execution_count": 14,
      "outputs": [
        {
          "output_type": "display_data",
          "data": {
            "text/plain": [
              "<Figure size 640x480 with 1 Axes>"
            ],
            "image/png": "[encoded data removed]"
          },
          "metadata": {}
        }
      ]
    },
    {
      "cell_type": "code",
      "source": [
        "#reconstructed Image\n",
        "from matplotlib import pyplot as plt\n",
        "plt.imshow(prediction[50].reshape(28,28))\n",
        "plt.show()"
      ],
      "metadata": {
        "colab": {
          "base_uri": "https://localhost:8080/",
          "height": 430
        },
        "id": "dtJIAsUAMt4m",
        "outputId": "12ccd5ae-e587-43f7-c2eb-d0a075d26963"
      },
      "execution_count": 15,
      "outputs": [
        {
          "output_type": "display_data",
          "data": {
            "text/plain": [
              "<Figure size 640x480 with 1 Axes>"
            ],
            "image/png": "[encoded data removed]"
          },
          "metadata": {}
        }
      ]
    }
  ]
}
